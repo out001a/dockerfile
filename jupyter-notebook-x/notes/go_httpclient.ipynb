{
 "cells": [
  {
   "cell_type": "code",
   "execution_count": 23,
   "metadata": {},
   "outputs": [
    {
     "name": "stdout",
     "output_type": "stream",
     "text": [
      "4: Hello World\n",
      " true\n",
      "3: Hello World\n",
      " true\n",
      "1: Hello World\n",
      " true\n",
      "0: Hello World\n",
      " true\n",
      "2: Hello World\n",
      " true\n",
      "end\n"
     ]
    },
    {
     "data": {
      "text/plain": [
       "4 <nil>"
      ]
     },
     "execution_count": 23,
     "metadata": {},
     "output_type": "execute_result"
    }
   ],
   "source": [
    "import (\n",
    "    \"fmt\"\n",
    "    \"net/http\"\n",
    "    \"io/ioutil\"\n",
    "    \"sync\"\n",
    "    \"strconv\"\n",
    ")\n",
    "\n",
    "func get(url string) (string, error) {\n",
    "    resp, err := http.Get(url)\n",
    "    if err != nil {\n",
    "        return \"\", err\n",
    "    }\n",
    "    defer resp.Body.Close()\n",
    "    body, err := ioutil.ReadAll(resp.Body)\n",
    "    if err != nil {\n",
    "        return \"\", err\n",
    "    }\n",
    "    return string(body), nil\n",
    "}\n",
    "\n",
    "ch := make(chan string)\n",
    "for i := 0; i < 5; i++ {\n",
    "    go func(i int) {\n",
    "        r, e := get(\"http://127.0.0.1:9501\")\n",
    "        if e == nil {\n",
    "            ch <- strconv.Itoa(i) + \": \" + r\n",
    "        }\n",
    "    }(i)\n",
    "}\n",
    "\n",
    "for i := 0; i < 5; i++ {\n",
    "    s, ok := <-ch\n",
    "    fmt.Println(s, ok)\n",
    "}\n",
    "close(ch)\n",
    "\n",
    "fmt.Println(\"end\")\n"
   ]
  }
 ],
 "metadata": {
  "kernelspec": {
   "display_name": "Go",
   "language": "go",
   "name": "gophernotes"
  },
  "language_info": {
   "codemirror_mode": "",
   "file_extension": ".go",
   "mimetype": "",
   "name": "go",
   "nbconvert_exporter": "",
   "pygments_lexer": "",
   "version": "go1.9.4"
  }
 },
 "nbformat": 4,
 "nbformat_minor": 2
}
