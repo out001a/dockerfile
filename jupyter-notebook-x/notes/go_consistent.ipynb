{
 "cells": [
  {
   "cell_type": "code",
   "execution_count": 25,
   "metadata": {},
   "outputs": [
    {
     "name": "stdout",
     "output_type": "stream",
     "text": [
      "node1 true\n",
      "node2 true\n",
      "node3 true\n",
      "\n",
      "    j\tnode1 true\n",
      "    a\tnode1 true\n",
      "    b\tnode2 true\n",
      "    c\tnode2 true\n",
      "    d\tnode2 true\n",
      "    e\tnode3 true\n",
      "    f\tnode3 true\n",
      "    g\tnode3 true\n",
      "    h\tnode1 true\n",
      "    i\tnode1 true\n",
      "\n",
      "node3 true\n",
      "====end====\n"
     ]
    },
    {
     "data": {
      "text/plain": [
       "12 <nil>"
      ]
     },
     "execution_count": 25,
     "metadata": {},
     "output_type": "execute_result"
    }
   ],
   "source": [
    "// first run `go get github.com/out001a/go-consistent` and `go install github.com/out001a/go-consistent` in terminal\n",
    "import (\n",
    "    \"fmt\"\n",
    "    \"github.com/out001a/go-consistent\"\n",
    ")\n",
    "\n",
    "consist := consistent.NewConsistent()\n",
    "\n",
    "consist.Add(\"node1\")\n",
    "consist.Add(\"node2\")\n",
    "consist.Add(\"node3\")\n",
    "\n",
    "v1, ok1 := consist.Lookup(\"key1\")\n",
    "fmt.Println(v1, ok1)\n",
    "\n",
    "v2, ok2 := consist.Lookup(\"key2\")\n",
    "fmt.Println(v2, ok2)\n",
    "\n",
    "v3, ok3 := consist.Lookup(\"key3\")\n",
    "fmt.Println(v3, ok3)\n",
    "\n",
    "fmt.Println()\n",
    "func lookup(ch chan<- string) {\n",
    "    for i := 0; i < 10; i++ {\n",
    "        go func(i int){\n",
    "            if v, ok := consist.Lookup(string('a' + i)); ok {\n",
    "                ch <- \"    \" + string('a' + i) + \"\\t\" + v\n",
    "            }\n",
    "        }(i)\n",
    "    }\n",
    "}\n",
    "func consumer(ch <-chan string) {\n",
    "    for i := 0; i < 10; i++ {\n",
    "        v, ok := <- ch\n",
    "        fmt.Println(v, ok)\n",
    "        if !ok {\n",
    "            fmt.Println(\"done\")\n",
    "            break\n",
    "        }\n",
    "    }\n",
    "    close(ch)\n",
    "}\n",
    "ch := make(chan string)\n",
    "lookup(ch)\n",
    "consumer(ch)\n",
    "fmt.Println()\n",
    "\n",
    "consist.Remove(\"node1\")\n",
    "fmt.Println(consist.Lookup(\"key1\"))\n",
    "\n",
    "fmt.Println(\"====end====\")"
   ]
  }
 ],
 "metadata": {
  "kernelspec": {
   "display_name": "Go",
   "language": "go",
   "name": "gophernotes"
  },
  "language_info": {
   "codemirror_mode": "",
   "file_extension": ".go",
   "mimetype": "",
   "name": "go",
   "nbconvert_exporter": "",
   "pygments_lexer": "",
   "version": "go1.9.4"
  }
 },
 "nbformat": 4,
 "nbformat_minor": 2
}
