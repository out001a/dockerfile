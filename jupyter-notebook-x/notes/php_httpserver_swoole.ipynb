{
 "cells": [
  {
   "cell_type": "code",
   "execution_count": null,
   "metadata": {},
   "outputs": [],
   "source": [
    "$http = new swoole_http_server(\"127.0.0.1\", 9501);\n",
    "\n",
    "$http->on(\"start\", function ($server) {\n",
    "    echo \"Swoole http server is started at http://127.0.0.1:9501\\n\";\n",
    "});\n",
    "\n",
    "$http->on(\"request\", function ($request, $response) {\n",
    "    $response->header(\"Content-Type\", \"text/plain\");\n",
    "    $response->end(\"Hello World\\n\");\n",
    "});\n",
    "\n",
    "$http->start();"
   ]
  }
 ],
 "metadata": {
  "kernelspec": {
   "display_name": "PHP",
   "language": "php",
   "name": "jupyter-php"
  },
  "language_info": {
   "file_extension": ".php",
   "mimetype": "text/x-php",
   "name": "PHP",
   "pygments_lexer": "PHP",
   "version": "7.2.6"
  }
 },
 "nbformat": 4,
 "nbformat_minor": 2
}
